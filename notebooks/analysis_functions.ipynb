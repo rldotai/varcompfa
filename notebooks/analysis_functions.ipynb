{
 "cells": [
  {
   "cell_type": "code",
   "execution_count": 4,
   "metadata": {
    "collapsed": false
   },
   "outputs": [
    {
     "name": "stdout",
     "output_type": "stream",
     "text": [
      "The autoreload extension is already loaded. To reload it, use:\n",
      "  %reload_ext autoreload\n"
     ]
    }
   ],
   "source": [
    "%load_ext autoreload\n",
    "%autoreload 2\n",
    "\n",
    "%matplotlib inline\n",
    "import matplotlib as mpl\n",
    "import matplotlib.pyplot as plt\n",
    "import numpy as np\n",
    "from numpy.linalg import pinv\n",
    "import pandas as pd\n",
    "\n",
    "np.set_printoptions(precision=4, suppress=True)\n",
    "\n",
    "import mdpy as mdp\n",
    "import mdpy"
   ]
  },
  {
   "cell_type": "markdown",
   "metadata": {},
   "source": [
    "# Analysis Functions\n",
    "\n",
    "Here we attempt to encapsulate the process of approximating various quantities (e.g., the return, least-squares return, λ-return (under FA), and second moment) in discrete functions in order to speed up analysis and avoid errors from copy-pasting chunks of code that must be modified to work properly."
   ]
  },
  {
   "cell_type": "code",
   "execution_count": 2,
   "metadata": {
    "collapsed": false
   },
   "outputs": [
    {
     "data": {
      "text/plain": [
       "['Number',\n",
       " '__all__',\n",
       " '__author__',\n",
       " '__builtins__',\n",
       " '__cached__',\n",
       " '__doc__',\n",
       " '__file__',\n",
       " '__loader__',\n",
       " '__name__',\n",
       " '__package__',\n",
       " '__path__',\n",
       " '__spec__',\n",
       " '__version__',\n",
       " '_whitelist',\n",
       " 'approx_stationary',\n",
       " 'as_array',\n",
       " 'bellman',\n",
       " 'cols',\n",
       " 'colsum',\n",
       " 'det',\n",
       " 'distribution_matrix',\n",
       " 'etd_solution',\n",
       " 'etd_weights',\n",
       " 'find_nonterminals',\n",
       " 'find_terminal_indices',\n",
       " 'find_terminals',\n",
       " 'followon',\n",
       " 'get_all_stationary',\n",
       " 'get_period',\n",
       " 'inspect',\n",
       " 'is_absorbing',\n",
       " 'is_diagonal',\n",
       " 'is_distribution',\n",
       " 'is_ergodic',\n",
       " 'is_matrix',\n",
       " 'is_nonnegative',\n",
       " 'is_periodic',\n",
       " 'is_pvec',\n",
       " 'is_reducible',\n",
       " 'is_square',\n",
       " 'is_stochastic',\n",
       " 'is_substochastic',\n",
       " 'least_squares',\n",
       " 'linalg',\n",
       " 'matrix_rank',\n",
       " 'norm',\n",
       " 'normalize',\n",
       " 'np',\n",
       " 'pinv',\n",
       " 'potential',\n",
       " 'propagator',\n",
       " 'rand_p',\n",
       " 'random_binary',\n",
       " 'random_mdp',\n",
       " 'reduce',\n",
       " 'rows',\n",
       " 'rowsum',\n",
       " 'scipy',\n",
       " 'solve',\n",
       " 'someones',\n",
       " 'somezeros',\n",
       " 'stationary',\n",
       " 'td_solution',\n",
       " 'td_weights',\n",
       " 'unit',\n",
       " 'util',\n",
       " 'warp']"
      ]
     },
     "execution_count": 2,
     "metadata": {},
     "output_type": "execute_result"
    }
   ],
   "source": [
    "mdp.td_solution"
   ]
  },
  {
   "cell_type": "markdown",
   "metadata": {},
   "source": [
    "# Example MDP"
   ]
  },
  {
   "cell_type": "code",
   "execution_count": 64,
   "metadata": {
    "collapsed": false
   },
   "outputs": [],
   "source": [
    "# MDP solved analytically\n",
    "ns = 6\n",
    "I = np.eye(ns)\n",
    "\n",
    "# Probability of transitioning from state s_i --> s_j = P[i,j]\n",
    "P = np.diag(np.ones(ns-1), 1) * 0.5\n",
    "P[:,0] = 0.5\n",
    "P[-1, 0] = 1\n",
    "\n",
    "# Expected reward for transitioning from s_i --> s_j = R[i,j]\n",
    "R = np.zeros((ns, ns))\n",
    "# -1 Reward for non-terminal transitions\n",
    "R[:,:] = -1\n",
    "# Reaching edge has zero reward\n",
    "R[-2, -1] = 0\n",
    "# Transitions from terminal state have zero reward\n",
    "R[-1,:] = 0\n",
    "r = np.sum(P*R, axis=1)\n",
    "\n",
    "# State-dependent discount\n",
    "gvec = np.ones(ns)*0.9\n",
    "gvec[0] = 0\n",
    "G = np.diag(gvec)\n",
    "\n",
    "# State-dependent bootstrapping\n",
    "lvec = np.ones(ns)*0.0\n",
    "L = np.diag(lvec)\n",
    "\n",
    "# Value function (expected Monte Carlo return)\n",
    "v_pi = pinv(I - P @ G) @ r\n",
    "\n",
    "# Compute stationary distribution for transition matrix\n",
    "d_pi = mdp.stationary(P)\n",
    "D = np.diag(d_pi)\n",
    "\n",
    "Y = np.array([\n",
    "        [1, 0, 0, 0],\n",
    "        [1, 0, 0, 1],\n",
    "        [1, 0, 1, 0],\n",
    "        [1, 0, 1, 1],\n",
    "        [1, 1, 0, 0],\n",
    "        [0, 0, 0, 0]\n",
    "    ])"
   ]
  },
  {
   "cell_type": "code",
   "execution_count": 50,
   "metadata": {
    "collapsed": true
   },
   "outputs": [],
   "source": [
    "def mc_return(P, r, Γ):\n",
    "    assert(mdpy.is_stochastic(P))\n",
    "    I = np.eye(len(P))\n",
    "    return np.linalg.pinv(I - P @ Γ) @ r\n",
    "\n",
    "def ls_weights(P, r, Γ, X):\n",
    "    assert(mdpy.is_stochastic(P))\n",
    "    assert(X.ndim == 2)\n",
    "    assert(len(X) == len(P))\n",
    "    value = mc_return(P, r, Γ)\n",
    "    dist  = mdpy.stationary(P)\n",
    "    D     = np.diag(dist)\n",
    "    return np.linalg.pinv(X.T @ D @ X) @ X.T @ D @ value\n",
    "\n",
    "def ls_values(P, r, Γ, X):\n",
    "    weights = ls_weights(P, r, Γ, X)\n",
    "    return X @ weights\n",
    "\n",
    "def td_weights(P, r, Γ, Λ, X):\n",
    "    assert(mdpy.is_stochastic(P))\n",
    "    assert(X.ndim == 2)\n",
    "    assert(len(X) == len(P))\n",
    "    assert(mdp.is_diagonal(Γ))\n",
    "    assert(mdp.is_diagonal(Λ))\n",
    "    r_lm = (I - P @ Γ @ Λ) @ r\n",
    "    P_lm = I - pinv(I - P @ Γ @ Λ) @ (I - P @ Γ)\n",
    "    A = X.T @ D @ (I - P_lm) @ X\n",
    "    b = X.T @ D @ r_lm\n",
    "    return np.linalg.pinv(A) @ b\n",
    "\n",
    "def td_values(P, r, Γ, Λ, X):\n",
    "    return X @ td_weights(P, r, Γ, Λ, X)\n",
    "    \n",
    "def lambda_return(P, r, Γ, Λ, v_hat):\n",
    "    # Incorporate next-state's value into expected reward\n",
    "    r_hat = r + P @ Γ @ (I - Λ) @ v_hat\n",
    "    # Solve the Bellman equation\n",
    "    return np.linalg.pinv(I - P @ Γ @ Λ) @ r_hat\n",
    "\n",
    "def sobel_variance(P, R, Γ):\n",
    "    assert(mdpy.is_stochastic(P))\n",
    "    assert(P.shape == R.shape)\n",
    "    assert(mdp.is_diagonal(Γ))\n",
    "    ns = len(P)\n",
    "    r = (P * R) @ np.ones(ns)\n",
    "    v_pi = mc_return(P, r, Γ)\n",
    "    \n",
    "    # Set up Bellman equation\n",
    "    q = -v_pi**2\n",
    "    for i in range(ns):\n",
    "        for j in range(ns):\n",
    "            q[i] += P[i,j]*(R[i,j] + Γ[j,j]*v_pi[j])**2\n",
    "    # Solve Bellman equation\n",
    "    return np.linalg.pinv(I - P @ Γ @ Γ) @ q\n",
    "\n",
    "def second_moment(P, R, Γ, Λ):\n",
    "    assert(mdpy.is_stochastic(P))\n",
    "    assert(P.shape == R.shape)\n",
    "    assert(mdp.is_diagonal(Γ))\n",
    "    assert(mdp.is_diagonal(Λ))\n",
    "    ns = len(P)\n",
    "    # Here the MC-return is both the lambda return and its approximation\n",
    "    v_lm = mc_return(P, r, Γ)\n",
    "    γ = np.diag(Γ)\n",
    "    λ = np.diag(Λ)\n",
    "    \n",
    "    # Compute reward-like transition matrix\n",
    "    R_bar = np.zeros((ns, ns))\n",
    "    for i in range(ns):\n",
    "        for j in range(ns):\n",
    "            R_bar[i,j] = R[i,j]**2 \\\n",
    "                + (γ[j] * (1-λ[j])*v_lm[j])**2 \\\n",
    "                + 2*( γ[j] * (1 - λ[j]) * R[i,j] * v_lm[j] ) \\\n",
    "                + 2*( γ[j] * λ[j] * R[i,j] * v_lm[j]) \\\n",
    "                + 2*( (γ[j]**2)*λ[j]*(1-λ[j]) * (v_lm[j]**2) )\n",
    "    # Set up Bellman equation for second moment\n",
    "    r_bar = (P * R_bar) @ np.ones(ns)\n",
    "    \n",
    "    # Solve the Bellman equation\n",
    "    return np.linalg.pinv(I - P @ Γ @ Γ @ Λ @ Λ) @ r_bar\n",
    "\n",
    "def lambda_second_moment(P, R, Γ, Λ, v_hat):\n",
    "    assert(mdpy.is_stochastic(P))\n",
    "    assert(P.shape == R.shape)\n",
    "    assert(mdp.is_diagonal(Γ))\n",
    "    assert(mdp.is_diagonal(Λ))\n",
    "    ns = len(P)\n",
    "    # Expected immediate reward\n",
    "    r = (P * R) @ np.ones(ns)\n",
    "    # Lambda return may be different from approximate lambda return\n",
    "    v_lm = lambda_return(P, r, Γ, Λ, v_hat)\n",
    "    \n",
    "    # Get per-state discount and bootstrapping\n",
    "    γ = np.diag(Γ)\n",
    "    λ = np.diag(Λ)\n",
    "    \n",
    "    # Compute reward-like transition matrix\n",
    "    R_bar = np.zeros((ns, ns))\n",
    "    for i in range(ns):\n",
    "        for j in range(ns):\n",
    "            R_bar[i,j] = R[i,j]**2 \\\n",
    "                + (γ[j] * (1-λ[j])*v_lm[j])**2 \\\n",
    "                + 2*( γ[j] * (1 - λ[j]) * R[i,j] * v_hat[j] ) \\\n",
    "                + 2*( γ[j] * λ[j] * R[i,j] * v_lm[j]) \\\n",
    "                + 2*( (γ[j]**2)*λ[j]*(1-λ[j]) * (v_hat[j]*v_lm[j]) )\n",
    "    # Set up Bellman equation for second moment\n",
    "    r_bar = (P * R_bar) @ np.ones(ns)\n",
    "    \n",
    "    # Solve the Bellman equation\n",
    "    return pinv(I - P @ Γ @ Γ @ Λ @ Λ) @ r_bar"
   ]
  },
  {
   "cell_type": "code",
   "execution_count": 53,
   "metadata": {
    "collapsed": false
   },
   "outputs": [
    {
     "data": {
      "text/plain": [
       "array([ 0.8412,  0.6353,  0.3654,  0.1519,  0.25  ,  0.    ])"
      ]
     },
     "execution_count": 53,
     "metadata": {},
     "output_type": "execute_result"
    }
   ],
   "source": [
    "sobel_variance(P, R, G)"
   ]
  },
  {
   "cell_type": "code",
   "execution_count": 55,
   "metadata": {
    "collapsed": false
   },
   "outputs": [
    {
     "data": {
      "text/plain": [
       "array([ 0.8412,  0.6353,  0.3654,  0.1519,  0.25  ,  0.    ])"
      ]
     },
     "execution_count": 55,
     "metadata": {},
     "output_type": "execute_result"
    }
   ],
   "source": [
    "lambda_second_moment(P, R, G, np.eye(ns)*1, v_pi) - v_pi**2"
   ]
  },
  {
   "cell_type": "code",
   "execution_count": 73,
   "metadata": {
    "collapsed": false
   },
   "outputs": [
    {
     "data": {
      "text/plain": [
       "array([ 1.3591,  1.2231,  0.9524,  0.5756,  0.5   , -0.    ])"
      ]
     },
     "execution_count": 73,
     "metadata": {},
     "output_type": "execute_result"
    }
   ],
   "source": [
    "v_hat = v_pi.copy()\n",
    "v_hat[np.abs(v_hat) > 1e-6] += 0.5\n",
    "L_hat = np.eye(ns)*0\n",
    "lambda_second_moment(P, R, G, L_hat, v_hat) - v_hat**2"
   ]
  },
  {
   "cell_type": "code",
   "execution_count": null,
   "metadata": {
    "collapsed": true
   },
   "outputs": [],
   "source": [
    "v_hat = v_pi.copy()\n",
    "v_hat[np.abs(v_hat) > 1e-6] += 0.5\n",
    "L_hat = np.eye(ns)*0\n",
    "lambda_second_moment(P, R, G, L_hat, v_hat) - v_hat**2\n",
    "# TODO: ccompare w/ computed lambda return instead of vhat"
   ]
  },
  {
   "cell_type": "code",
   "execution_count": 74,
   "metadata": {
    "collapsed": false
   },
   "outputs": [
    {
     "data": {
      "text/plain": [
       "array([ 0.5839,  0.4873,  0.3039,  0.0506,  0.25  , -0.    ])"
      ]
     },
     "execution_count": 74,
     "metadata": {},
     "output_type": "execute_result"
    }
   ],
   "source": [
    "second_moment(P, R, G, L) - mc_return(P, r, G)**2"
   ]
  },
  {
   "cell_type": "code",
   "execution_count": 23,
   "metadata": {
    "collapsed": false
   },
   "outputs": [
    {
     "data": {
      "text/plain": [
       "array([-1.7646, -1.6445, -1.5414, -1.4214, -0.5   ,  0.    ])"
      ]
     },
     "execution_count": 23,
     "metadata": {},
     "output_type": "execute_result"
    }
   ],
   "source": [
    "td_values(P, r, G, L, Y)"
   ]
  },
  {
   "cell_type": "code",
   "execution_count": 14,
   "metadata": {
    "collapsed": false
   },
   "outputs": [
    {
     "data": {
      "text/plain": [
       "(6, 4)"
      ]
     },
     "execution_count": 14,
     "metadata": {},
     "output_type": "execute_result"
    }
   ],
   "source": [
    "Y.shape"
   ]
  },
  {
   "cell_type": "code",
   "execution_count": 8,
   "metadata": {
    "collapsed": false
   },
   "outputs": [
    {
     "data": {
      "text/plain": [
       "array([-1.7641, -1.6981, -1.5513, -1.225 , -0.5   , -0.    ])"
      ]
     },
     "execution_count": 8,
     "metadata": {},
     "output_type": "execute_result"
    }
   ],
   "source": [
    "mc_return(P, r, G)"
   ]
  },
  {
   "cell_type": "code",
   "execution_count": 9,
   "metadata": {
    "collapsed": false
   },
   "outputs": [
    {
     "data": {
      "text/plain": [
       "array([-1.7641, -1.6981, -1.5513, -1.225 , -0.5   , -0.    ])"
      ]
     },
     "execution_count": 9,
     "metadata": {},
     "output_type": "execute_result"
    }
   ],
   "source": [
    "v_pi"
   ]
  },
  {
   "cell_type": "code",
   "execution_count": 25,
   "metadata": {
    "collapsed": false
   },
   "outputs": [
    {
     "data": {
      "text/plain": [
       "array([-1.7641, -1.6981, -1.5513, -1.225 , -0.5   ,  0.    ])"
      ]
     },
     "execution_count": 25,
     "metadata": {},
     "output_type": "execute_result"
    }
   ],
   "source": [
    "pinv(I - P @ G @ L) @ (r + P @ G @ (I - L) @ v_pi)"
   ]
  },
  {
   "cell_type": "code",
   "execution_count": 29,
   "metadata": {
    "collapsed": false
   },
   "outputs": [
    {
     "data": {
      "text/plain": [
       "array([-1.5391, -1.4731, -1.3263, -1.    , -0.275 ,  0.    ])"
      ]
     },
     "execution_count": 29,
     "metadata": {},
     "output_type": "execute_result"
    }
   ],
   "source": [
    "lambda_return(P, r, G, L, v_pi + 0.5)"
   ]
  },
  {
   "cell_type": "code",
   "execution_count": 32,
   "metadata": {
    "collapsed": false
   },
   "outputs": [
    {
     "data": {
      "text/plain": [
       "array([-1.2641, -1.1981, -1.0513, -0.725 , -0.    ,  0.5   ])"
      ]
     },
     "execution_count": 32,
     "metadata": {},
     "output_type": "execute_result"
    }
   ],
   "source": [
    "v_pi + 0.5"
   ]
  },
  {
   "cell_type": "code",
   "execution_count": null,
   "metadata": {
    "collapsed": true
   },
   "outputs": [],
   "source": []
  }
 ],
 "metadata": {
  "kernelspec": {
   "display_name": "Python [conda env:varcompfa]",
   "language": "python",
   "name": "conda-env-varcompfa-py"
  },
  "language_info": {
   "codemirror_mode": {
    "name": "ipython",
    "version": 3
   },
   "file_extension": ".py",
   "mimetype": "text/x-python",
   "name": "python",
   "nbconvert_exporter": "python",
   "pygments_lexer": "ipython3",
   "version": "3.5.2"
  }
 },
 "nbformat": 4,
 "nbformat_minor": 1
}
