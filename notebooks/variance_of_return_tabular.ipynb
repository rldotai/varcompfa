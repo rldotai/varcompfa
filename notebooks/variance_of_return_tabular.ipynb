{
 "cells": [
  {
   "cell_type": "code",
   "execution_count": 1,
   "metadata": {},
   "outputs": [
    {
     "name": "stdout",
     "output_type": "stream",
     "text": [
      "The autoreload extension is already loaded. To reload it, use:\n",
      "  %reload_ext autoreload\n"
     ]
    }
   ],
   "source": [
    "%load_ext autoreload\n",
    "%autoreload 2\n",
    "\n",
    "%matplotlib inline\n",
    "import matplotlib as mpl\n",
    "import matplotlib.pyplot as plt\n",
    "import numpy as np\n",
    "from numpy.linalg import pinv\n",
    "import pandas as pd\n",
    "\n",
    "np.set_printoptions(precision=4, suppress=True)\n",
    "\n",
    "import mdpy as mdp"
   ]
  },
  {
   "cell_type": "markdown",
   "metadata": {},
   "source": [
    "# Chicken Example"
   ]
  },
  {
   "cell_type": "code",
   "execution_count": 2,
   "metadata": {},
   "outputs": [
    {
     "name": "stdout",
     "output_type": "stream",
     "text": [
      "[ 0.0205  0.0456  0.1013  0.225   0.5    -0.    ]\n",
      "[ 0.0004  0.0021  0.0103  0.0506  0.25   -0.    ]\n",
      "[ 0.013   0.0311  0.0718  0.1519  0.25   -0.    ]\n"
     ]
    }
   ],
   "source": [
    "# Chicken problem solved analytically\n",
    "ns = 6\n",
    "I = np.eye(ns)\n",
    "\n",
    "# Probability of transitioning from state s_i --> s_j = P[i,j]\n",
    "P = np.diag(np.ones(ns-1), 1) * 0.5\n",
    "P[:,0] = 0.5\n",
    "P[-1, 0] = 1\n",
    "\n",
    "# Expected reward for transitioning from s_i --> s_j = R[i,j]\n",
    "R = np.zeros((ns, ns))\n",
    "R[-2, -1] = 1.0\n",
    "r = np.sum(P*R, axis=1)\n",
    "\n",
    "# Discount\n",
    "gvec = np.ones(ns)*0.9\n",
    "gvec[0] = 0\n",
    "# gvec[-1] = 0\n",
    "G = np.diag(gvec)\n",
    "\n",
    "# Bootstrapping\n",
    "L = np.eye(ns)*0.0\n",
    "\n",
    "# Function approximation\n",
    "X = np.eye(ns)\n",
    "\n",
    "\n",
    "# Value function\n",
    "v_pi = pinv(I - P @ G) @ r\n",
    "\n",
    "\n",
    "# From sobel, recursive expected variance contribution?\n",
    "T = -v_pi**2\n",
    "for i in range(ns):\n",
    "    for j in range(ns):\n",
    "        T[i] += P[i,j] * (R[i,j] + gvec[j]*v_pi[j])**2\n",
    "\n",
    "# Alternatively,\n",
    "# T = np.sum(P * (R + G @ v_pi)**2, axis=1) - v_pi**2\n",
    "        \n",
    "# Variance (again from Sobel)\n",
    "v_var = pinv(I - P @ G @ G) @ T \n",
    "\n",
    "print(v_pi)\n",
    "print(T)\n",
    "print(v_var)"
   ]
  },
  {
   "cell_type": "code",
   "execution_count": 3,
   "metadata": {
    "collapsed": true
   },
   "outputs": [],
   "source": [
    "class Chicken:\n",
    "    ACTIONS = {'advance': 0, 'return': 1}\n",
    "    initial_state = 0\n",
    "    def __init__(self, ns):\n",
    "        self.length = ns - 1\n",
    "        self.reset()\n",
    "        \n",
    "    def do(self, action):\n",
    "        if action == 0:\n",
    "            if self._state == self.length:\n",
    "                sp = self.initial_state\n",
    "            else:\n",
    "                sp = self._state + 1\n",
    "        elif action == 1:\n",
    "            sp = self.initial_state\n",
    "        else:\n",
    "            raise Exception(\"Invalid action:\", action)\n",
    "        r = self.reward(self._state, action, sp)\n",
    "        self._state = sp\n",
    "        return r, sp\n",
    "    \n",
    "    def reward(self, s, a, sp):\n",
    "        if s == self.length and a == self.ACTIONS['advance']:\n",
    "            return 1\n",
    "        else:\n",
    "            return 0\n",
    "        \n",
    "    def reset(self):\n",
    "        self._state = self.initial_state\n",
    "\n",
    "    def observe(self):\n",
    "        return self._state"
   ]
  },
  {
   "cell_type": "code",
   "execution_count": 4,
   "metadata": {
    "collapsed": true
   },
   "outputs": [],
   "source": [
    "def generate_steps(env, pol, nsteps):\n",
    "    ret = []\n",
    "    env.reset()\n",
    "    for i in range(nsteps):\n",
    "        s = env.observe()\n",
    "        a = policy(s)\n",
    "        r, sp = env.do(a)\n",
    "        \n",
    "        ret.append((s, a, r, sp))\n",
    "    return ret\n",
    "\n",
    "def create_episodes(steps, *terminals):\n",
    "    ret = []\n",
    "    epi = []\n",
    "    terminals = set(terminals)\n",
    "    for step in steps:\n",
    "        s, a, r, sp = step\n",
    "        epi.append((s, a, r, sp))\n",
    "        if sp in terminals:\n",
    "            ret.append(epi)\n",
    "            epi = []\n",
    "    return ret\n",
    "\n",
    "def compute_return(steps, gmfunc):\n",
    "    ret = []\n",
    "    g = 0\n",
    "    for step in reversed(steps):\n",
    "        s, a, r, sp = step\n",
    "        g = r + gmfunc(sp)*g\n",
    "        ret.append((s, a, g, sp))\n",
    "    return list(reversed(ret))\n",
    "\n",
    "def compute_lambda_return(steps, gmfunc, lmfunc, vfunc):\n",
    "    pass"
   ]
  },
  {
   "cell_type": "code",
   "execution_count": 5,
   "metadata": {
    "collapsed": true
   },
   "outputs": [],
   "source": [
    "# Randomly choose either 0 or 1\n",
    "def policy(s):\n",
    "    return np.random.binomial(1, 0.5)"
   ]
  },
  {
   "cell_type": "code",
   "execution_count": 6,
   "metadata": {},
   "outputs": [],
   "source": [
    "# Generate some steps\n",
    "num_states = 5\n",
    "slst = generate_steps(Chicken(num_states), policy, 100000)"
   ]
  },
  {
   "cell_type": "code",
   "execution_count": 7,
   "metadata": {
    "collapsed": true
   },
   "outputs": [],
   "source": [
    "gamma = lambda x: 0 if x == 0 else 0.9\n",
    "glst = compute_return(slst, gamma)\n",
    "df = pd.DataFrame(glst, columns=['s', 'a', 'g', 'sp'])"
   ]
  },
  {
   "cell_type": "code",
   "execution_count": 8,
   "metadata": {},
   "outputs": [],
   "source": [
    "grouped = pd.groupby(df, 's')"
   ]
  },
  {
   "cell_type": "code",
   "execution_count": 9,
   "metadata": {},
   "outputs": [
    {
     "data": {
      "text/html": [
       "<div>\n",
       "<table border=\"1\" class=\"dataframe\">\n",
       "  <thead>\n",
       "    <tr style=\"text-align: right;\">\n",
       "      <th></th>\n",
       "      <th>g</th>\n",
       "    </tr>\n",
       "    <tr>\n",
       "      <th>s</th>\n",
       "      <th></th>\n",
       "    </tr>\n",
       "  </thead>\n",
       "  <tbody>\n",
       "    <tr>\n",
       "      <th>0</th>\n",
       "      <td>0.019834</td>\n",
       "    </tr>\n",
       "    <tr>\n",
       "      <th>1</th>\n",
       "      <td>0.044309</td>\n",
       "    </tr>\n",
       "    <tr>\n",
       "      <th>2</th>\n",
       "      <td>0.098536</td>\n",
       "    </tr>\n",
       "    <tr>\n",
       "      <th>3</th>\n",
       "      <td>0.220047</td>\n",
       "    </tr>\n",
       "    <tr>\n",
       "      <th>4</th>\n",
       "      <td>0.496512</td>\n",
       "    </tr>\n",
       "  </tbody>\n",
       "</table>\n",
       "</div>"
      ],
      "text/plain": [
       "          g\n",
       "s          \n",
       "0  0.019834\n",
       "1  0.044309\n",
       "2  0.098536\n",
       "3  0.220047\n",
       "4  0.496512"
      ]
     },
     "execution_count": 9,
     "metadata": {},
     "output_type": "execute_result"
    }
   ],
   "source": [
    "grouped.aggregate({'g': np.mean})"
   ]
  },
  {
   "cell_type": "code",
   "execution_count": 10,
   "metadata": {},
   "outputs": [
    {
     "data": {
      "text/html": [
       "<div>\n",
       "<table border=\"1\" class=\"dataframe\">\n",
       "  <thead>\n",
       "    <tr style=\"text-align: right;\">\n",
       "      <th></th>\n",
       "      <th>g</th>\n",
       "    </tr>\n",
       "    <tr>\n",
       "      <th>s</th>\n",
       "      <th></th>\n",
       "    </tr>\n",
       "  </thead>\n",
       "  <tbody>\n",
       "    <tr>\n",
       "      <th>0</th>\n",
       "      <td>0.012620</td>\n",
       "    </tr>\n",
       "    <tr>\n",
       "      <th>1</th>\n",
       "      <td>0.030339</td>\n",
       "    </tr>\n",
       "    <tr>\n",
       "      <th>2</th>\n",
       "      <td>0.070111</td>\n",
       "    </tr>\n",
       "    <tr>\n",
       "      <th>3</th>\n",
       "      <td>0.149645</td>\n",
       "    </tr>\n",
       "    <tr>\n",
       "      <th>4</th>\n",
       "      <td>0.250067</td>\n",
       "    </tr>\n",
       "  </tbody>\n",
       "</table>\n",
       "</div>"
      ],
      "text/plain": [
       "          g\n",
       "s          \n",
       "0  0.012620\n",
       "1  0.030339\n",
       "2  0.070111\n",
       "3  0.149645\n",
       "4  0.250067"
      ]
     },
     "execution_count": 10,
     "metadata": {},
     "output_type": "execute_result"
    }
   ],
   "source": [
    "grouped.aggregate({'g': np.var})"
   ]
  },
  {
   "cell_type": "code",
   "execution_count": 11,
   "metadata": {
    "collapsed": true
   },
   "outputs": [],
   "source": [
    "# Experimental variance as a matrix\n",
    "var_exp = grouped.aggregate({'g': np.var})['g'].as_matrix()"
   ]
  },
  {
   "cell_type": "code",
   "execution_count": 12,
   "metadata": {
    "collapsed": true
   },
   "outputs": [],
   "source": [
    "# Create a matrix for tabular feature representation\n",
    "I = np.eye(ns) \n",
    "X = np.array([I[s] for s, *_ in slst])\n",
    "# Get a vector of returns, one per-timestep\n",
    "g = np.array([i[2] for i in glst])"
   ]
  },
  {
   "cell_type": "code",
   "execution_count": 13,
   "metadata": {},
   "outputs": [],
   "source": [
    "# Compute the best approximate weights via least-squares\n",
    "w_hat, *_ = np.linalg.lstsq(X, g)"
   ]
  },
  {
   "cell_type": "code",
   "execution_count": 14,
   "metadata": {},
   "outputs": [
    {
     "data": {
      "text/plain": [
       "array([ 0.0198,  0.0443,  0.0985,  0.22  ,  0.4965,  0.    ])"
      ]
     },
     "execution_count": 14,
     "metadata": {},
     "output_type": "execute_result"
    }
   ],
   "source": [
    "w_hat"
   ]
  },
  {
   "cell_type": "code",
   "execution_count": 15,
   "metadata": {
    "collapsed": true
   },
   "outputs": [],
   "source": [
    "# Compute vector of per-timestep variance in returns\n",
    "g_hat = np.dot(X, w_hat)\n",
    "var_g = (g - g_hat)**2"
   ]
  },
  {
   "cell_type": "code",
   "execution_count": 16,
   "metadata": {
    "collapsed": true
   },
   "outputs": [],
   "source": [
    "# Compute weights for per-feature variance\n",
    "w_var, *_ = np.linalg.lstsq(X, var_g)"
   ]
  },
  {
   "cell_type": "code",
   "execution_count": 17,
   "metadata": {},
   "outputs": [
    {
     "data": {
      "text/plain": [
       "array([ 0.0126,  0.0303,  0.0701,  0.1496,  0.25  ,  0.    ])"
      ]
     },
     "execution_count": 17,
     "metadata": {},
     "output_type": "execute_result"
    }
   ],
   "source": [
    "w_var"
   ]
  },
  {
   "cell_type": "code",
   "execution_count": 18,
   "metadata": {},
   "outputs": [
    {
     "data": {
      "text/plain": [
       "array([ 0.0126,  0.0303,  0.0701,  0.1496,  0.2501])"
      ]
     },
     "execution_count": 18,
     "metadata": {},
     "output_type": "execute_result"
    }
   ],
   "source": [
    "var_exp"
   ]
  },
  {
   "cell_type": "code",
   "execution_count": 19,
   "metadata": {},
   "outputs": [
    {
     "data": {
      "text/plain": [
       "array([ 0.013 ,  0.0311,  0.0718,  0.1519,  0.25  , -0.    ])"
      ]
     },
     "execution_count": 19,
     "metadata": {},
     "output_type": "execute_result"
    }
   ],
   "source": [
    "v_var"
   ]
  },
  {
   "cell_type": "code",
   "execution_count": null,
   "metadata": {
    "collapsed": true
   },
   "outputs": [],
   "source": []
  }
 ],
 "metadata": {
  "anaconda-cloud": {},
  "kernelspec": {
   "display_name": "Python 3",
   "language": "python",
   "name": "python3"
  },
  "language_info": {
   "codemirror_mode": {
    "name": "ipython",
    "version": 3
   },
   "file_extension": ".py",
   "mimetype": "text/x-python",
   "name": "python",
   "nbconvert_exporter": "python",
   "pygments_lexer": "ipython3",
   "version": "3.6.1"
  }
 },
 "nbformat": 4,
 "nbformat_minor": 1
}
